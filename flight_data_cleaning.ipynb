{
 "cells": [
  {
   "cell_type": "markdown",
   "id": "fff7bb7e",
   "metadata": {},
   "source": [
    "# Data Import and Library"
   ]
  },
  {
   "cell_type": "code",
   "execution_count": 4,
   "id": "a1c35b55",
   "metadata": {},
   "outputs": [],
   "source": [
    "# Import libraries\n",
    "import pandas as pd\n",
    "import numpy as np\n",
    "from datetime import timedelta\n",
    "import matplotlib.pyplot as plt\n",
    "import squarify\n",
    "import seaborn as sns\n",
    "\n",
    "\n",
    "import warnings\n",
    "warnings.filterwarnings('ignore')"
   ]
  },
  {
   "cell_type": "code",
   "execution_count": 5,
   "id": "9d2bb070",
   "metadata": {},
   "outputs": [],
   "source": [
    "flight_data = pd.read_excel(r\"C:\\Users\\SIDDHANT SHELKE\\Downloads\\Flight_Price_Train.xlsx\")\n"
   ]
  },
  {
   "cell_type": "markdown",
   "id": "43bdb8e7",
   "metadata": {},
   "source": [
    "## a. Top 5 records"
   ]
  },
  {
   "cell_type": "code",
   "execution_count": 6,
   "id": "291863d2",
   "metadata": {},
   "outputs": [
    {
     "data": {
      "text/html": [
       "<div>\n",
       "<style scoped>\n",
       "    .dataframe tbody tr th:only-of-type {\n",
       "        vertical-align: middle;\n",
       "    }\n",
       "\n",
       "    .dataframe tbody tr th {\n",
       "        vertical-align: top;\n",
       "    }\n",
       "\n",
       "    .dataframe thead th {\n",
       "        text-align: right;\n",
       "    }\n",
       "</style>\n",
       "<table border=\"1\" class=\"dataframe\">\n",
       "  <thead>\n",
       "    <tr style=\"text-align: right;\">\n",
       "      <th></th>\n",
       "      <th>Airline</th>\n",
       "      <th>Date_of_Journey</th>\n",
       "      <th>Source</th>\n",
       "      <th>Destination</th>\n",
       "      <th>Route</th>\n",
       "      <th>Dep_Time</th>\n",
       "      <th>Arrival_Time</th>\n",
       "      <th>Duration</th>\n",
       "      <th>Total_Stops</th>\n",
       "      <th>Additional_Info</th>\n",
       "      <th>Price</th>\n",
       "    </tr>\n",
       "  </thead>\n",
       "  <tbody>\n",
       "    <tr>\n",
       "      <th>0</th>\n",
       "      <td>IndiGo</td>\n",
       "      <td>24/03/2019</td>\n",
       "      <td>Banglore</td>\n",
       "      <td>New Delhi</td>\n",
       "      <td>BLR → DEL</td>\n",
       "      <td>22:20</td>\n",
       "      <td>01:10 22 Mar</td>\n",
       "      <td>2h 50m</td>\n",
       "      <td>non-stop</td>\n",
       "      <td>No info</td>\n",
       "      <td>3897</td>\n",
       "    </tr>\n",
       "    <tr>\n",
       "      <th>1</th>\n",
       "      <td>Air India</td>\n",
       "      <td>1/05/2019</td>\n",
       "      <td>Kolkata</td>\n",
       "      <td>Banglore</td>\n",
       "      <td>CCU → IXR → BBI → BLR</td>\n",
       "      <td>05:50</td>\n",
       "      <td>13:15</td>\n",
       "      <td>7h 25m</td>\n",
       "      <td>2 stops</td>\n",
       "      <td>No info</td>\n",
       "      <td>7662</td>\n",
       "    </tr>\n",
       "    <tr>\n",
       "      <th>2</th>\n",
       "      <td>Jet Airways</td>\n",
       "      <td>9/06/2019</td>\n",
       "      <td>Delhi</td>\n",
       "      <td>Cochin</td>\n",
       "      <td>DEL → LKO → BOM → COK</td>\n",
       "      <td>09:25</td>\n",
       "      <td>04:25 10 Jun</td>\n",
       "      <td>19h</td>\n",
       "      <td>2 stops</td>\n",
       "      <td>No info</td>\n",
       "      <td>13882</td>\n",
       "    </tr>\n",
       "    <tr>\n",
       "      <th>3</th>\n",
       "      <td>IndiGo</td>\n",
       "      <td>12/05/2019</td>\n",
       "      <td>Kolkata</td>\n",
       "      <td>Banglore</td>\n",
       "      <td>CCU → NAG → BLR</td>\n",
       "      <td>18:05</td>\n",
       "      <td>23:30</td>\n",
       "      <td>5h 25m</td>\n",
       "      <td>1 stop</td>\n",
       "      <td>No info</td>\n",
       "      <td>6218</td>\n",
       "    </tr>\n",
       "    <tr>\n",
       "      <th>4</th>\n",
       "      <td>IndiGo</td>\n",
       "      <td>01/03/2019</td>\n",
       "      <td>Banglore</td>\n",
       "      <td>New Delhi</td>\n",
       "      <td>BLR → NAG → DEL</td>\n",
       "      <td>16:50</td>\n",
       "      <td>21:35</td>\n",
       "      <td>4h 45m</td>\n",
       "      <td>1 stop</td>\n",
       "      <td>No info</td>\n",
       "      <td>13302</td>\n",
       "    </tr>\n",
       "  </tbody>\n",
       "</table>\n",
       "</div>"
      ],
      "text/plain": [
       "       Airline Date_of_Journey    Source Destination                  Route  \\\n",
       "0       IndiGo      24/03/2019  Banglore   New Delhi              BLR → DEL   \n",
       "1    Air India       1/05/2019   Kolkata    Banglore  CCU → IXR → BBI → BLR   \n",
       "2  Jet Airways       9/06/2019     Delhi      Cochin  DEL → LKO → BOM → COK   \n",
       "3       IndiGo      12/05/2019   Kolkata    Banglore        CCU → NAG → BLR   \n",
       "4       IndiGo      01/03/2019  Banglore   New Delhi        BLR → NAG → DEL   \n",
       "\n",
       "  Dep_Time  Arrival_Time Duration Total_Stops Additional_Info  Price  \n",
       "0    22:20  01:10 22 Mar   2h 50m    non-stop         No info   3897  \n",
       "1    05:50         13:15   7h 25m     2 stops         No info   7662  \n",
       "2    09:25  04:25 10 Jun      19h     2 stops         No info  13882  \n",
       "3    18:05         23:30   5h 25m      1 stop         No info   6218  \n",
       "4    16:50         21:35   4h 45m      1 stop         No info  13302  "
      ]
     },
     "execution_count": 6,
     "metadata": {},
     "output_type": "execute_result"
    }
   ],
   "source": [
    "flight_data.head()"
   ]
  },
  {
   "cell_type": "markdown",
   "id": "05399e71",
   "metadata": {},
   "source": [
    "## b. Data shape"
   ]
  },
  {
   "cell_type": "code",
   "execution_count": 7,
   "id": "6408284d",
   "metadata": {},
   "outputs": [
    {
     "name": "stdout",
     "output_type": "stream",
     "text": [
      "Shape of the dataset: (10683, 11)\n"
     ]
    }
   ],
   "source": [
    "shape_of_data = flight_data.shape\n",
    "print(\"Shape of the dataset:\", shape_of_data)"
   ]
  },
  {
   "cell_type": "markdown",
   "id": "08b050ed",
   "metadata": {},
   "source": [
    "## c. Data statistical"
   ]
  },
  {
   "cell_type": "code",
   "execution_count": 8,
   "id": "e69f9336",
   "metadata": {},
   "outputs": [
    {
     "name": "stdout",
     "output_type": "stream",
     "text": [
      "Statistical information:\n",
      "              Price\n",
      "count  10683.000000\n",
      "mean    9087.064121\n",
      "std     4611.359167\n",
      "min     1759.000000\n",
      "25%     5277.000000\n",
      "50%     8372.000000\n",
      "75%    12373.000000\n",
      "max    79512.000000\n"
     ]
    }
   ],
   "source": [
    "statistical_info = flight_data.describe()\n",
    "print(\"Statistical information:\")\n",
    "print(statistical_info)"
   ]
  },
  {
   "cell_type": "markdown",
   "id": "76b51c08",
   "metadata": {},
   "source": [
    "## d. Data info"
   ]
  },
  {
   "cell_type": "code",
   "execution_count": 9,
   "id": "b0e4d5ee",
   "metadata": {},
   "outputs": [
    {
     "name": "stdout",
     "output_type": "stream",
     "text": [
      "<class 'pandas.core.frame.DataFrame'>\n",
      "RangeIndex: 10683 entries, 0 to 10682\n",
      "Data columns (total 11 columns):\n",
      " #   Column           Non-Null Count  Dtype \n",
      "---  ------           --------------  ----- \n",
      " 0   Airline          10683 non-null  object\n",
      " 1   Date_of_Journey  10683 non-null  object\n",
      " 2   Source           10683 non-null  object\n",
      " 3   Destination      10683 non-null  object\n",
      " 4   Route            10682 non-null  object\n",
      " 5   Dep_Time         10683 non-null  object\n",
      " 6   Arrival_Time     10683 non-null  object\n",
      " 7   Duration         10683 non-null  object\n",
      " 8   Total_Stops      10682 non-null  object\n",
      " 9   Additional_Info  10683 non-null  object\n",
      " 10  Price            10683 non-null  int64 \n",
      "dtypes: int64(1), object(10)\n",
      "memory usage: 918.2+ KB\n"
     ]
    }
   ],
   "source": [
    "flight_data.info()"
   ]
  },
  {
   "cell_type": "markdown",
   "id": "4eb80f3c",
   "metadata": {},
   "source": [
    "## e. Data duplicates"
   ]
  },
  {
   "cell_type": "code",
   "execution_count": 10,
   "id": "34435a1b",
   "metadata": {},
   "outputs": [
    {
     "name": "stdout",
     "output_type": "stream",
     "text": [
      "Number of duplicate rows: 220\n"
     ]
    }
   ],
   "source": [
    "duplicates = flight_data[flight_data.duplicated()]\n",
    "print(\"Number of duplicate rows:\", duplicates.shape[0])"
   ]
  },
  {
   "cell_type": "code",
   "execution_count": 11,
   "id": "177ff5bf",
   "metadata": {},
   "outputs": [
    {
     "name": "stdout",
     "output_type": "stream",
     "text": [
      "Number of duplicate rows after removal: 0\n"
     ]
    }
   ],
   "source": [
    "# Drop duplicates\n",
    "flight_data.drop_duplicates(inplace=True)\n",
    "\n",
    "# Confirming duplicates have been removed\n",
    "print(\"Number of duplicate rows after removal:\", flight_data[flight_data.duplicated()].shape[0])\n"
   ]
  },
  {
   "cell_type": "markdown",
   "id": "6eb1073f",
   "metadata": {},
   "source": [
    "## f. Data Null values"
   ]
  },
  {
   "cell_type": "code",
   "execution_count": 12,
   "id": "21a279c2",
   "metadata": {},
   "outputs": [
    {
     "name": "stdout",
     "output_type": "stream",
     "text": [
      "Null values in each column:\n",
      "Airline            0\n",
      "Date_of_Journey    0\n",
      "Source             0\n",
      "Destination        0\n",
      "Route              1\n",
      "Dep_Time           0\n",
      "Arrival_Time       0\n",
      "Duration           0\n",
      "Total_Stops        1\n",
      "Additional_Info    0\n",
      "Price              0\n",
      "dtype: int64\n"
     ]
    }
   ],
   "source": [
    "null_values = flight_data.isnull().sum()\n",
    "print(\"Null values in each column:\")\n",
    "print(null_values)"
   ]
  },
  {
   "cell_type": "code",
   "execution_count": 13,
   "id": "2c791c23",
   "metadata": {},
   "outputs": [
    {
     "name": "stdout",
     "output_type": "stream",
     "text": [
      "Null values in each column after handling:\n",
      "Airline            0\n",
      "Date_of_Journey    0\n",
      "Source             0\n",
      "Destination        0\n",
      "Route              0\n",
      "Dep_Time           0\n",
      "Arrival_Time       0\n",
      "Duration           0\n",
      "Total_Stops        0\n",
      "Additional_Info    0\n",
      "Price              0\n",
      "dtype: int64\n"
     ]
    }
   ],
   "source": [
    "# Drop rows with any null values\n",
    "flight_data.dropna(inplace=True)\n",
    "\n",
    "# Confirming null values have been handled\n",
    "print(\"Null values in each column after handling:\")\n",
    "print(flight_data.isnull().sum())"
   ]
  },
  {
   "cell_type": "markdown",
   "id": "c4eb0b13",
   "metadata": {},
   "source": [
    "## g. Extract Date, Month, Year from Date of Journey column"
   ]
  },
  {
   "cell_type": "code",
   "execution_count": 14,
   "id": "8e4d5da3",
   "metadata": {},
   "outputs": [
    {
     "name": "stdout",
     "output_type": "stream",
     "text": [
      "  Date_of_Journey  Journey_Day  Journey_Month  Journey_Year\n",
      "0      2019-03-24           24              3          2019\n",
      "1      2019-05-01            1              5          2019\n",
      "2      2019-06-09            9              6          2019\n",
      "3      2019-05-12           12              5          2019\n",
      "4      2019-03-01            1              3          2019\n"
     ]
    }
   ],
   "source": [
    "# Convert 'Date_of_Journey' to datetime format\n",
    "flight_data['Date_of_Journey'] = pd.to_datetime(flight_data['Date_of_Journey'], format='%d/%m/%Y')\n",
    "\n",
    "# Extract Date, Month, and Year into separate columns\n",
    "flight_data['Journey_Day'] = flight_data['Date_of_Journey'].dt.day\n",
    "flight_data['Journey_Month'] = flight_data['Date_of_Journey'].dt.month\n",
    "flight_data['Journey_Year'] = flight_data['Date_of_Journey'].dt.year\n",
    "\n",
    "# Display the updated DataFrame with extracted columns\n",
    "print(flight_data[['Date_of_Journey', 'Journey_Day', 'Journey_Month', 'Journey_Year']].head())\n"
   ]
  },
  {
   "cell_type": "markdown",
   "id": "9b7a376c",
   "metadata": {},
   "source": [
    "# Removing Outliner"
   ]
  },
  {
   "cell_type": "code",
   "execution_count": 15,
   "id": "ac85a212",
   "metadata": {},
   "outputs": [
    {
     "data": {
      "text/plain": [
       "<Axes: >"
      ]
     },
     "execution_count": 15,
     "metadata": {},
     "output_type": "execute_result"
    },
    {
     "data": {
      "image/png": "[encoded data removed]",
      "text/plain": [
       "<Figure size 640x480 with 1 Axes>"
      ]
     },
     "metadata": {},
     "output_type": "display_data"
    }
   ],
   "source": [
    "sns.boxplot(data=flight_data['Price'])"
   ]
  },
  {
   "cell_type": "code",
   "execution_count": 16,
   "id": "d9873861",
   "metadata": {},
   "outputs": [],
   "source": [
    "\n",
    "# for x in flight_data. :\n",
    "q1,q2,q3 = flight_data['Price'].quantile([0.25,0.50,0.75])\n",
    "iqr = q3 - q1\n",
    "ll = q1 - 1.5 * iqr\n",
    "ul = q3 + 1.5 * iqr\n",
    "flight_data['Price'].clip(lower=ll,upper=ul,inplace=True);"
   ]
  },
  {
   "cell_type": "code",
   "execution_count": 17,
   "id": "2df0a200",
   "metadata": {},
   "outputs": [
    {
     "data": {
      "text/plain": [
       "<Axes: >"
      ]
     },
     "execution_count": 17,
     "metadata": {},
     "output_type": "execute_result"
    },
    {
     "data": {
      "image/png": "[encoded data removed]",
      "text/plain": [
       "<Figure size 640x480 with 1 Axes>"
      ]
     },
     "metadata": {},
     "output_type": "display_data"
    }
   ],
   "source": [
    "sns.boxplot(data=flight_data['Price'])"
   ]
  },
  {
   "cell_type": "code",
   "execution_count": 18,
   "id": "c9bd8711",
   "metadata": {},
   "outputs": [],
   "source": [
    "# Convert Departure Time\n",
    "flight_data['Dep_Time'] = pd.to_datetime(flight_data['Dep_Time']).dt.time\n",
    "\n",
    "# Extract hour and minute\n",
    "flight_data['dep_hour'] = pd.to_datetime(flight_data['Dep_Time'], errors='coerce').dt.hour\n",
    "flight_data['dep_minute'] = pd.to_datetime(flight_data['Dep_Time'], errors='coerce').dt.minute\n"
   ]
  },
  {
   "cell_type": "code",
   "execution_count": 19,
   "id": "6f2c8895",
   "metadata": {},
   "outputs": [],
   "source": [
    "# Clean Arrival Time\n",
    "flight_data['Arrival_Time'] = flight_data['Arrival_Time'].apply(lambda x: x.split(' ')[0])\n",
    "flight_data['Arrival_Time'] = pd.to_datetime(flight_data['Arrival_Time'], errors='coerce').dt.time\n",
    "\n",
    "# Extract hour and minute\n",
    "flight_data['arrival_hour'] = pd.to_datetime(flight_data['Arrival_Time'], errors='coerce').dt.hour\n",
    "flight_data['arrival_minute'] = pd.to_datetime(flight_data['Arrival_Time'], errors='coerce').dt.minute\n"
   ]
  },
  {
   "cell_type": "code",
   "execution_count": 20,
   "id": "c7dcb9c6",
   "metadata": {},
   "outputs": [],
   "source": [
    "# Fix missing hours/minutes\n",
    "flight_data['Duration'] = flight_data['Duration'].apply(lambda x: '0h ' + x if 'h' not in x else x)\n",
    "flight_data['Duration'] = flight_data['Duration'].apply(lambda x: x + ' 0m' if 'm' not in x else x)\n",
    "\n",
    "# Extract hours and minutes\n",
    "flight_data['duration_hours'] = flight_data['Duration'].apply(lambda x: int(x.split('h')[0]))\n",
    "flight_data['duration_minutes'] = flight_data['Duration'].apply(lambda x: int(x.split('h')[1].split('m')[0]))\n",
    "\n",
    "# Drop original Duration\n",
    "flight_data.drop('Duration', axis=1, inplace=True)\n"
   ]
  },
  {
   "cell_type": "code",
   "execution_count": 21,
   "id": "9ca8ac42",
   "metadata": {},
   "outputs": [],
   "source": [
    "flight_data.columns = flight_data.columns.str.lower().str.replace(\" \", \"_\")\n"
   ]
  },
  {
   "cell_type": "code",
   "execution_count": 22,
   "id": "d15ac8b6",
   "metadata": {},
   "outputs": [
    {
     "name": "stdout",
     "output_type": "stream",
     "text": [
      "<class 'pandas.core.frame.DataFrame'>\n",
      "Int64Index: 10462 entries, 0 to 10682\n",
      "Data columns (total 19 columns):\n",
      " #   Column            Non-Null Count  Dtype         \n",
      "---  ------            --------------  -----         \n",
      " 0   airline           10462 non-null  object        \n",
      " 1   date_of_journey   10462 non-null  datetime64[ns]\n",
      " 2   source            10462 non-null  object        \n",
      " 3   destination       10462 non-null  object        \n",
      " 4   route             10462 non-null  object        \n",
      " 5   dep_time          10462 non-null  object        \n",
      " 6   arrival_time      10462 non-null  object        \n",
      " 7   total_stops       10462 non-null  object        \n",
      " 8   additional_info   10462 non-null  object        \n",
      " 9   price             10462 non-null  float64       \n",
      " 10  journey_day       10462 non-null  int64         \n",
      " 11  journey_month     10462 non-null  int64         \n",
      " 12  journey_year      10462 non-null  int64         \n",
      " 13  dep_hour          0 non-null      float64       \n",
      " 14  dep_minute        0 non-null      float64       \n",
      " 15  arrival_hour      0 non-null      float64       \n",
      " 16  arrival_minute    0 non-null      float64       \n",
      " 17  duration_hours    10462 non-null  int64         \n",
      " 18  duration_minutes  10462 non-null  int64         \n",
      "dtypes: datetime64[ns](1), float64(5), int64(5), object(8)\n",
      "memory usage: 1.8+ MB\n"
     ]
    },
    {
     "data": {
      "text/html": [
       "<div>\n",
       "<style scoped>\n",
       "    .dataframe tbody tr th:only-of-type {\n",
       "        vertical-align: middle;\n",
       "    }\n",
       "\n",
       "    .dataframe tbody tr th {\n",
       "        vertical-align: top;\n",
       "    }\n",
       "\n",
       "    .dataframe thead th {\n",
       "        text-align: right;\n",
       "    }\n",
       "</style>\n",
       "<table border=\"1\" class=\"dataframe\">\n",
       "  <thead>\n",
       "    <tr style=\"text-align: right;\">\n",
       "      <th></th>\n",
       "      <th>airline</th>\n",
       "      <th>date_of_journey</th>\n",
       "      <th>source</th>\n",
       "      <th>destination</th>\n",
       "      <th>route</th>\n",
       "      <th>dep_time</th>\n",
       "      <th>arrival_time</th>\n",
       "      <th>total_stops</th>\n",
       "      <th>additional_info</th>\n",
       "      <th>price</th>\n",
       "      <th>journey_day</th>\n",
       "      <th>journey_month</th>\n",
       "      <th>journey_year</th>\n",
       "      <th>dep_hour</th>\n",
       "      <th>dep_minute</th>\n",
       "      <th>arrival_hour</th>\n",
       "      <th>arrival_minute</th>\n",
       "      <th>duration_hours</th>\n",
       "      <th>duration_minutes</th>\n",
       "    </tr>\n",
       "  </thead>\n",
       "  <tbody>\n",
       "    <tr>\n",
       "      <th>0</th>\n",
       "      <td>IndiGo</td>\n",
       "      <td>2019-03-24</td>\n",
       "      <td>Banglore</td>\n",
       "      <td>New Delhi</td>\n",
       "      <td>BLR → DEL</td>\n",
       "      <td>22:20:00</td>\n",
       "      <td>01:10:00</td>\n",
       "      <td>non-stop</td>\n",
       "      <td>No info</td>\n",
       "      <td>3897.0</td>\n",
       "      <td>24</td>\n",
       "      <td>3</td>\n",
       "      <td>2019</td>\n",
       "      <td>NaN</td>\n",
       "      <td>NaN</td>\n",
       "      <td>NaN</td>\n",
       "      <td>NaN</td>\n",
       "      <td>2</td>\n",
       "      <td>50</td>\n",
       "    </tr>\n",
       "    <tr>\n",
       "      <th>1</th>\n",
       "      <td>Air India</td>\n",
       "      <td>2019-05-01</td>\n",
       "      <td>Kolkata</td>\n",
       "      <td>Banglore</td>\n",
       "      <td>CCU → IXR → BBI → BLR</td>\n",
       "      <td>05:50:00</td>\n",
       "      <td>13:15:00</td>\n",
       "      <td>2 stops</td>\n",
       "      <td>No info</td>\n",
       "      <td>7662.0</td>\n",
       "      <td>1</td>\n",
       "      <td>5</td>\n",
       "      <td>2019</td>\n",
       "      <td>NaN</td>\n",
       "      <td>NaN</td>\n",
       "      <td>NaN</td>\n",
       "      <td>NaN</td>\n",
       "      <td>7</td>\n",
       "      <td>25</td>\n",
       "    </tr>\n",
       "    <tr>\n",
       "      <th>2</th>\n",
       "      <td>Jet Airways</td>\n",
       "      <td>2019-06-09</td>\n",
       "      <td>Delhi</td>\n",
       "      <td>Cochin</td>\n",
       "      <td>DEL → LKO → BOM → COK</td>\n",
       "      <td>09:25:00</td>\n",
       "      <td>04:25:00</td>\n",
       "      <td>2 stops</td>\n",
       "      <td>No info</td>\n",
       "      <td>13882.0</td>\n",
       "      <td>9</td>\n",
       "      <td>6</td>\n",
       "      <td>2019</td>\n",
       "      <td>NaN</td>\n",
       "      <td>NaN</td>\n",
       "      <td>NaN</td>\n",
       "      <td>NaN</td>\n",
       "      <td>19</td>\n",
       "      <td>0</td>\n",
       "    </tr>\n",
       "    <tr>\n",
       "      <th>3</th>\n",
       "      <td>IndiGo</td>\n",
       "      <td>2019-05-12</td>\n",
       "      <td>Kolkata</td>\n",
       "      <td>Banglore</td>\n",
       "      <td>CCU → NAG → BLR</td>\n",
       "      <td>18:05:00</td>\n",
       "      <td>23:30:00</td>\n",
       "      <td>1 stop</td>\n",
       "      <td>No info</td>\n",
       "      <td>6218.0</td>\n",
       "      <td>12</td>\n",
       "      <td>5</td>\n",
       "      <td>2019</td>\n",
       "      <td>NaN</td>\n",
       "      <td>NaN</td>\n",
       "      <td>NaN</td>\n",
       "      <td>NaN</td>\n",
       "      <td>5</td>\n",
       "      <td>25</td>\n",
       "    </tr>\n",
       "    <tr>\n",
       "      <th>4</th>\n",
       "      <td>IndiGo</td>\n",
       "      <td>2019-03-01</td>\n",
       "      <td>Banglore</td>\n",
       "      <td>New Delhi</td>\n",
       "      <td>BLR → NAG → DEL</td>\n",
       "      <td>16:50:00</td>\n",
       "      <td>21:35:00</td>\n",
       "      <td>1 stop</td>\n",
       "      <td>No info</td>\n",
       "      <td>13302.0</td>\n",
       "      <td>1</td>\n",
       "      <td>3</td>\n",
       "      <td>2019</td>\n",
       "      <td>NaN</td>\n",
       "      <td>NaN</td>\n",
       "      <td>NaN</td>\n",
       "      <td>NaN</td>\n",
       "      <td>4</td>\n",
       "      <td>45</td>\n",
       "    </tr>\n",
       "  </tbody>\n",
       "</table>\n",
       "</div>"
      ],
      "text/plain": [
       "       airline date_of_journey    source destination                  route  \\\n",
       "0       IndiGo      2019-03-24  Banglore   New Delhi              BLR → DEL   \n",
       "1    Air India      2019-05-01   Kolkata    Banglore  CCU → IXR → BBI → BLR   \n",
       "2  Jet Airways      2019-06-09     Delhi      Cochin  DEL → LKO → BOM → COK   \n",
       "3       IndiGo      2019-05-12   Kolkata    Banglore        CCU → NAG → BLR   \n",
       "4       IndiGo      2019-03-01  Banglore   New Delhi        BLR → NAG → DEL   \n",
       "\n",
       "   dep_time arrival_time total_stops additional_info    price  journey_day  \\\n",
       "0  22:20:00     01:10:00    non-stop         No info   3897.0           24   \n",
       "1  05:50:00     13:15:00     2 stops         No info   7662.0            1   \n",
       "2  09:25:00     04:25:00     2 stops         No info  13882.0            9   \n",
       "3  18:05:00     23:30:00      1 stop         No info   6218.0           12   \n",
       "4  16:50:00     21:35:00      1 stop         No info  13302.0            1   \n",
       "\n",
       "   journey_month  journey_year  dep_hour  dep_minute  arrival_hour  \\\n",
       "0              3          2019       NaN         NaN           NaN   \n",
       "1              5          2019       NaN         NaN           NaN   \n",
       "2              6          2019       NaN         NaN           NaN   \n",
       "3              5          2019       NaN         NaN           NaN   \n",
       "4              3          2019       NaN         NaN           NaN   \n",
       "\n",
       "   arrival_minute  duration_hours  duration_minutes  \n",
       "0             NaN               2                50  \n",
       "1             NaN               7                25  \n",
       "2             NaN              19                 0  \n",
       "3             NaN               5                25  \n",
       "4             NaN               4                45  "
      ]
     },
     "execution_count": 22,
     "metadata": {},
     "output_type": "execute_result"
    }
   ],
   "source": [
    "flight_data.info()\n",
    "flight_data.head()\n"
   ]
  },
  {
   "cell_type": "code",
   "execution_count": 23,
   "id": "f552d27e",
   "metadata": {},
   "outputs": [],
   "source": [
    "flight_data.to_csv('flight_data_cleaned.csv', index=False)\n"
   ]
  },
  {
   "cell_type": "code",
   "execution_count": null,
   "id": "8ab5a7d6",
   "metadata": {},
   "outputs": [],
   "source": []
  }
 ],
 "metadata": {
  "kernelspec": {
   "display_name": "Python 3 (ipykernel)",
   "language": "python",
   "name": "python3"
  },
  "language_info": {
   "codemirror_mode": {
    "name": "ipython",
    "version": 3
   },
   "file_extension": ".py",
   "mimetype": "text/x-python",
   "name": "python",
   "nbconvert_exporter": "python",
   "pygments_lexer": "ipython3",
   "version": "3.11.3"
  }
 },
 "nbformat": 4,
 "nbformat_minor": 5
}
